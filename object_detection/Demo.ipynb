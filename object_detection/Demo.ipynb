{
 "cells": [
  {
   "cell_type": "code",
   "execution_count": 1,
   "metadata": {},
   "outputs": [
    {
     "name": "stderr",
     "output_type": "stream",
     "text": [
      "Using TensorFlow backend.\n"
     ]
    }
   ],
   "source": [
    "import cv2\n",
    "import os\n",
    "import matplotlib.pyplot as plt\n",
    "import json\n",
    "import tensorflow as tf\n",
    "import numpy as np\n",
    "\n",
    "from mrcnn import visualize\n",
    "import mrcnn.model as modellib\n",
    "from mrcnn.model import log\n",
    "import perception"
   ]
  },
  {
   "cell_type": "code",
   "execution_count": 2,
   "metadata": {},
   "outputs": [],
   "source": [
    "os.environ[\"CUDA_VISIBLE_DEVICES\"] = \"3\""
   ]
  },
  {
   "cell_type": "code",
   "execution_count": 3,
   "metadata": {},
   "outputs": [],
   "source": [
    "config = perception.CocoConfig()\n",
    "class_names = ['BG', 'person', 'rider', 'car', 'bus', 'truck', 'bike', 'motor', 'traffic light', 'traffic sign', 'train']"
   ]
  },
  {
   "cell_type": "code",
   "execution_count": 4,
   "metadata": {},
   "outputs": [],
   "source": [
    "image_dir = \"/home/dtilak/object_detection/test_images/input/\"\n",
    "output_image_path = \"/home/dtilak/object_detection/test_images/output_rgb_mask_rcnn_resnet101_fpn_data_3/\"\n",
    "weights_path = \"/home/dtilak/object_detection/training_log_rgb/coco20190811T1837/mask_rcnn_coco_0005.h5\"\n",
    "MODEL_DIR = \"/home/dtilak/object_detection/training_log_rgb/\""
   ]
  },
  {
   "cell_type": "code",
   "execution_count": 5,
   "metadata": {},
   "outputs": [
    {
     "name": "stdout",
     "output_type": "stream",
     "text": [
      "WARNING:tensorflow:From /usr/local/lib/python3.5/dist-packages/tensorflow/python/ops/sparse_ops.py:1165: sparse_to_dense (from tensorflow.python.ops.sparse_ops) is deprecated and will be removed in a future version.\n",
      "Instructions for updating:\n",
      "Create a `tf.sparse.SparseTensor` and use `tf.sparse.to_dense` instead.\n",
      "Re-starting from epoch 5\n"
     ]
    }
   ],
   "source": [
    "DEVICE = \"/gpu:0\"  # /cpu:0 or /gpu:0\n",
    "with tf.device(DEVICE):\n",
    "    model = modellib.MaskRCNN(mode=\"inference\", model_dir=MODEL_DIR, config=config)\n",
    "model.load_weights(weights_path, by_name=True)"
   ]
  },
  {
   "cell_type": "code",
   "execution_count": 6,
   "metadata": {},
   "outputs": [],
   "source": [
    "def get_image_list(image_dir):\n",
    "    files= os.listdir(image_dir) \n",
    "    s = []\n",
    "    for file in files: \n",
    "        str_name = file[:21]\n",
    "        s.append(str_name) \n",
    "    return s\n",
    "\n",
    "image_list = get_image_list(image_dir)"
   ]
  },
  {
   "cell_type": "code",
   "execution_count": 7,
   "metadata": {},
   "outputs": [],
   "source": [
    "def get_individual_class_details(class_ids, scores, rois):\n",
    "    \n",
    "    result_array = dict()\n",
    "    for index in range(len(class_ids)):\n",
    "\n",
    "        predicted_class = class_names[class_ids[index]]\n",
    "        predicted_class_score = scores[index].tolist()\n",
    "        predicted_class_boxes = rois[index].tolist()\n",
    "\n",
    "        result_array[predicted_class] = ({\"Confidence\":[predicted_class_score]}, \n",
    "                                                 {\"Bounding box\":[predicted_class_boxes]})\n",
    "\n",
    "    #print(result_array)\n",
    "    return result_array"
   ]
  },
  {
   "cell_type": "code",
   "execution_count": null,
   "metadata": {
    "scrolled": true
   },
   "outputs": [],
   "source": [
    "test_annos = dict()\n",
    "JSON_PATH_OUTPUT = os.path.join(output_image_path, \"results.json\")\n",
    "for i in range(len(image_list)):\n",
    "    image_path = os.path.join(image_dir,image_list[i]) \n",
    "    print(image_path)\n",
    "    image = cv2.imread(image_path)\n",
    "\n",
    "    height, width = image.shape[:2]\n",
    "\n",
    "    results = model.detect([image], verbose=1)\n",
    "\n",
    "\n",
    "    r = results[0]\n",
    "    image_ir = visualize.display_instances(image, r['rois'], r['masks'], r['class_ids'], \n",
    "                                class_names, r['scores'], \n",
    "                                title=\"Predictions\")\n",
    "    plt.savefig(os.path.join(output_image_path,image_list[i]), bbox_inches='tight')\n",
    "     \n",
    "    class_details = get_individual_class_details(r['class_ids'], r['scores'], r['rois'])\n",
    "    test_annos[i] = ({image_list[i] : class_details})\n",
    "    \n",
    "    #test_annos[image_list[i]] = (get_individual_class_details(r['class_ids'], r['scores'], r['rois']))\n",
    "        \n",
    "    if i==2:\n",
    "        break\n",
    "        \n",
    "test_annos = {\"Mask R-CNN with ResNet101 backbone and Feature Pyramid Network (FPN)\": test_annos}\n",
    "#print(test_annos)\n",
    "fd = open(JSON_PATH_OUTPUT, 'w')\n",
    "json.dump(test_annos,fd,indent=4,sort_keys=True)\n",
    "\n",
    "fd.close()"
   ]
  },
  {
   "cell_type": "code",
   "execution_count": null,
   "metadata": {},
   "outputs": [],
   "source": []
  },
  {
   "cell_type": "code",
   "execution_count": null,
   "metadata": {},
   "outputs": [],
   "source": []
  }
 ],
 "metadata": {
  "kernelspec": {
   "display_name": "Python 3",
   "language": "python",
   "name": "python3"
  },
  "language_info": {
   "codemirror_mode": {
    "name": "ipython",
    "version": 3
   },
   "file_extension": ".py",
   "mimetype": "text/x-python",
   "name": "python",
   "nbconvert_exporter": "python",
   "pygments_lexer": "ipython3",
   "version": "3.6.7"
  }
 },
 "nbformat": 4,
 "nbformat_minor": 2
}
